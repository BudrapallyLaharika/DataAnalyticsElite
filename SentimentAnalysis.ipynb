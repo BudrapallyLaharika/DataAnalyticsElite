{
  "nbformat": 4,
  "nbformat_minor": 0,
  "metadata": {
    "colab": {
      "provenance": []
    },
    "kernelspec": {
      "name": "python3",
      "display_name": "Python 3"
    },
    "language_info": {
      "name": "python"
    }
  },
  "cells": [
    {
      "cell_type": "code",
      "execution_count": 1,
      "metadata": {
        "colab": {
          "base_uri": "https://localhost:8080/"
        },
        "id": "BkRJ6JxtWXzk",
        "outputId": "4327948d-932b-4586-b962-c14dd2c452d2"
      },
      "outputs": [
        {
          "output_type": "stream",
          "name": "stderr",
          "text": [
            "[nltk_data] Downloading package vader_lexicon to /root/nltk_data...\n"
          ]
        },
        {
          "output_type": "stream",
          "name": "stdout",
          "text": [
            "                                     Customer_Remark Sentiment\n",
            "0            I love the product, it works perfectly!  Positive\n",
            "1               Terrible service, I won't come back.  Negative\n",
            "2  The product is okay, not great but not bad eit...  Positive\n",
            "3                 Excellent quality, very satisfied!  Positive\n",
            "4                  It was a complete waste of money.  Negative\n",
            "5      Delivery was delayed but the product is good.  Positive\n",
            "6         Amazing experience, I highly recommend it.  Positive\n",
            "7                               Not worth the price.  Negative\n",
            "8                Fairly decent product for the cost.   Neutral\n",
            "9            Awful packaging, ruined the experience.  Negative\n"
          ]
        }
      ],
      "source": [
        "import pandas as pd\n",
        "from nltk.sentiment import SentimentIntensityAnalyzer\n",
        "from nltk import download\n",
        "\n",
        "download('vader_lexicon')\n",
        "sia = SentimentIntensityAnalyzer()\n",
        "\n",
        "data = pd.DataFrame({\n",
        "    'Customer_Remark': [\n",
        "        \"I love the product, it works perfectly!\",\n",
        "        \"Terrible service, I won't come back.\",\n",
        "        \"The product is okay, not great but not bad either.\",\n",
        "        \"Excellent quality, very satisfied!\",\n",
        "        \"It was a complete waste of money.\",\n",
        "        \"Delivery was delayed but the product is good.\",\n",
        "        \"Amazing experience, I highly recommend it.\",\n",
        "        \"Not worth the price.\",\n",
        "        \"Fairly decent product for the cost.\",\n",
        "        \"Awful packaging, ruined the experience.\"\n",
        "    ]\n",
        "})\n",
        "\n",
        "def classify_sentiment(remark):\n",
        "    score = sia.polarity_scores(remark)['compound']\n",
        "    if score > 0.05:\n",
        "        return \"Positive\"\n",
        "    elif score < -0.05:\n",
        "        return \"Negative\"\n",
        "    else:\n",
        "        return \"Neutral\"\n",
        "\n",
        "data['Sentiment'] = data['Customer_Remark'].apply(classify_sentiment)\n",
        "\n",
        "print(data)\n"
      ]
    }
  ]
}